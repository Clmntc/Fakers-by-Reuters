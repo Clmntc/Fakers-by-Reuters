{
 "cells": [
  {
   "cell_type": "code",
   "execution_count": 43,
   "id": "6120278a",
   "metadata": {},
   "outputs": [],
   "source": [
    "import warnings\n",
    "warnings.filterwarnings('ignore')\n",
    "import tensorflow as tf\n",
    "from tensorflow import keras\n",
    "from keras.layers import Dense, Dropout, Activation, Flatten\n",
    "import numpy as np\n",
    "import pandas as pd\n",
    "import matplotlib.pyplot as plt\n",
    "import seaborn as sns\n",
    "import nltk\n",
    "import re\n",
    "from wordcloud import WordCloud\n",
    "from tensorflow.keras.preprocessing.text import Tokenizer\n",
    "from tensorflow.keras.preprocessing.sequence import pad_sequences\n",
    "from tensorflow.keras.models import Sequential\n",
    "from tensorflow.keras.layers import Dense, Embedding, LSTM, Conv1D, MaxPool1D\n",
    "from sklearn.model_selection import train_test_split\n",
    "from sklearn.metrics import classification_report, accuracy_score\n",
    "from sklearn.metrics import roc_auc_score, plot_roc_curve, roc_curve"
   ]
  },
  {
   "cell_type": "code",
   "execution_count": 44,
   "id": "87d80962",
   "metadata": {},
   "outputs": [],
   "source": [
    "data = pd.read_csv('C:/Users/SIMPLON/Desktop/FAKE_NEWS/text.csv')\n",
    "data.drop(columns=['Unnamed: 0'],inplace=True)"
   ]
  },
  {
   "cell_type": "code",
   "execution_count": 45,
   "id": "84d65f2d",
   "metadata": {},
   "outputs": [],
   "source": [
    "df=data.copy()\n",
    "#df.head()\n",
    "y=df.is_fake\n",
    "X=df.text"
   ]
  },
  {
   "cell_type": "code",
   "execution_count": 46,
   "id": "0d203309",
   "metadata": {},
   "outputs": [
    {
     "name": "stdout",
     "output_type": "stream",
     "text": [
      "(35917, 700)\n",
      "(35917,)\n"
     ]
    }
   ],
   "source": [
    "from tensorflow.keras.preprocessing.text import Tokenizer\n",
    "from tensorflow.keras.preprocessing.sequence import pad_sequences\n",
    "\n",
    "tokenizer = Tokenizer(oov_token = \"<OOV>\", num_words=6000)\n",
    "tokenizer.fit_on_texts(X)\n",
    "\n",
    "max_length = 700\n",
    "vocab_size = 6000\n",
    "\n",
    "sequences = tokenizer.texts_to_sequences(X)\n",
    "\n",
    "\n",
    "padded= pad_sequences(sequences, padding = 'post', maxlen=max_length)\n",
    "\n",
    "\n",
    "X_train, X_test, y_train, y_test = train_test_split(padded, y, test_size=0.2,random_state= 2022,stratify=y)\n",
    "\n",
    "print(X_train.shape)\n",
    "print(y_train.shape)"
   ]
  },
  {
   "cell_type": "code",
   "execution_count": null,
   "id": "ac243cbf",
   "metadata": {},
   "outputs": [],
   "source": []
  },
  {
   "cell_type": "code",
   "execution_count": 47,
   "id": "80e88cd2",
   "metadata": {},
   "outputs": [
    {
     "name": "stdout",
     "output_type": "stream",
     "text": [
      "Model: \"sequential_2\"\n",
      "_________________________________________________________________\n",
      " Layer (type)                Output Shape              Param #   \n",
      "=================================================================\n",
      " embedding_2 (Embedding)     (None, 700, 10)           60000     \n",
      "                                                                 \n",
      " dropout_3 (Dropout)         (None, 700, 10)           0         \n",
      "                                                                 \n",
      " lstm_2 (LSTM)               (None, 100)               44400     \n",
      "                                                                 \n",
      " dropout_4 (Dropout)         (None, 100)               0         \n",
      "                                                                 \n",
      " dense_3 (Dense)             (None, 64)                6464      \n",
      "                                                                 \n",
      " dropout_5 (Dropout)         (None, 64)                0         \n",
      "                                                                 \n",
      " dense_4 (Dense)             (None, 1)                 65        \n",
      "                                                                 \n",
      "=================================================================\n",
      "Total params: 110,929\n",
      "Trainable params: 110,929\n",
      "Non-trainable params: 0\n",
      "_________________________________________________________________\n",
      "None\n"
     ]
    }
   ],
   "source": [
    "def get_simple_LSTM_model():\n",
    "    model = Sequential()\n",
    "    model.add(Embedding(vocab_size, 10, input_length=max_length))\n",
    "    model.add(Dropout(0.3))\n",
    "    model.add(LSTM(100))\n",
    "    model.add(Dropout(0.3))\n",
    "    model.add(Dense(64, activation='relu'))\n",
    "    model.add(Dropout(0.3))\n",
    "    model.add(Dense(1, activation='sigmoid'))\n",
    "    return model\n",
    "\n",
    "model = get_simple_LSTM_model()\n",
    "print(model.summary())"
   ]
  },
  {
   "cell_type": "markdown",
   "id": "b51809fe",
   "metadata": {},
   "source": [
    "# Model1"
   ]
  },
  {
   "cell_type": "code",
   "execution_count": 6,
   "id": "09550ffa",
   "metadata": {},
   "outputs": [],
   "source": [
    "model.compile(loss='binary_crossentropy',\n",
    "              optimizer='adam', \n",
    "              metrics=[tf.keras.metrics.Precision(), tf.keras.metrics.Accuracy()])"
   ]
  },
  {
   "cell_type": "code",
   "execution_count": 7,
   "id": "eaf535c5",
   "metadata": {},
   "outputs": [],
   "source": [
    "callbacks=[\n",
    "    keras.callbacks.EarlyStopping(monitor=\"val_loss\", patience=15, \n",
    "                                  verbose=1, mode=\"min\", restore_best_weights=True)\n",
    "]"
   ]
  },
  {
   "cell_type": "code",
   "execution_count": 8,
   "id": "7c145782",
   "metadata": {},
   "outputs": [
    {
     "name": "stdout",
     "output_type": "stream",
     "text": [
      "Epoch 1/20\n",
      "1123/1123 [==============================] - 859s 761ms/step - loss: 0.5268 - precision: 0.6788 - accuracy: 0.0000e+00 - val_loss: 0.4378 - val_precision: 0.7379 - val_accuracy: 0.0000e+00\n",
      "Epoch 2/20\n",
      "1123/1123 [==============================] - 799s 712ms/step - loss: 0.3921 - precision: 0.7875 - accuracy: 0.0000e+00 - val_loss: 0.2114 - val_precision: 0.9716 - val_accuracy: 0.0000e+00\n",
      "Epoch 3/20\n",
      "1123/1123 [==============================] - 812s 723ms/step - loss: 0.4994 - precision: 0.6617 - accuracy: 0.0000e+00 - val_loss: 0.2133 - val_precision: 0.9821 - val_accuracy: 0.0000e+00\n",
      "Epoch 4/20\n",
      "1123/1123 [==============================] - 751s 669ms/step - loss: 0.2747 - precision: 0.8968 - accuracy: 0.0000e+00 - val_loss: 0.6286 - val_precision: 0.5604 - val_accuracy: 0.0000e+00\n",
      "Epoch 5/20\n",
      "1123/1123 [==============================] - 837s 746ms/step - loss: 0.3385 - precision: 0.7988 - accuracy: 0.0000e+00 - val_loss: 0.1806 - val_precision: 0.9561 - val_accuracy: 0.0000e+00\n",
      "Epoch 6/20\n",
      "1123/1123 [==============================] - 815s 726ms/step - loss: 0.0859 - precision: 0.9770 - accuracy: 0.0000e+00 - val_loss: 0.0441 - val_precision: 0.9887 - val_accuracy: 0.0000e+00\n",
      "Epoch 7/20\n",
      "1123/1123 [==============================] - 706s 628ms/step - loss: 0.0409 - precision: 0.9894 - accuracy: 0.0000e+00 - val_loss: 0.0356 - val_precision: 0.9890 - val_accuracy: 0.0000e+00\n",
      "Epoch 8/20\n",
      "1123/1123 [==============================] - 732s 652ms/step - loss: 0.0220 - precision: 0.9940 - accuracy: 8.3526e-05 - val_loss: 0.0348 - val_precision: 0.9882 - val_accuracy: 0.0000e+00\n",
      "Epoch 9/20\n",
      "1123/1123 [==============================] - 607s 541ms/step - loss: 0.0198 - precision: 0.9953 - accuracy: 0.0011 - val_loss: 0.0315 - val_precision: 0.9917 - val_accuracy: 0.0000e+00\n",
      "Epoch 10/20\n",
      "1123/1123 [==============================] - 679s 604ms/step - loss: 0.0140 - precision: 0.9960 - accuracy: 0.0047 - val_loss: 0.0187 - val_precision: 0.9970 - val_accuracy: 0.0000e+00\n",
      "Epoch 11/20\n",
      "1123/1123 [==============================] - 683s 609ms/step - loss: 0.0108 - precision: 0.9969 - accuracy: 0.0101 - val_loss: 0.0369 - val_precision: 0.9894 - val_accuracy: 0.0000e+00\n",
      "Epoch 12/20\n",
      "1123/1123 [==============================] - 648s 577ms/step - loss: 0.0112 - precision: 0.9972 - accuracy: 0.0072 - val_loss: 0.0191 - val_precision: 0.9949 - val_accuracy: 0.0000e+00\n",
      "Epoch 13/20\n",
      "1123/1123 [==============================] - 654s 582ms/step - loss: 0.0073 - precision: 0.9976 - accuracy: 0.0411 - val_loss: 0.0339 - val_precision: 0.9920 - val_accuracy: 0.0000e+00\n",
      "Epoch 14/20\n",
      "1123/1123 [==============================] - 622s 554ms/step - loss: 0.0041 - precision: 0.9987 - accuracy: 0.0712 - val_loss: 0.0288 - val_precision: 0.9924 - val_accuracy: 0.0000e+00\n",
      "Epoch 15/20\n",
      "1123/1123 [==============================] - 645s 574ms/step - loss: 0.0044 - precision: 0.9989 - accuracy: 0.1125 - val_loss: 0.0252 - val_precision: 0.9938 - val_accuracy: 0.0000e+00\n",
      "Epoch 16/20\n",
      "1123/1123 [==============================] - 609s 543ms/step - loss: 0.0055 - precision: 0.9984 - accuracy: 0.1402 - val_loss: 0.0244 - val_precision: 0.9989 - val_accuracy: 0.0000e+00\n",
      "Epoch 17/20\n",
      "1123/1123 [==============================] - 620s 552ms/step - loss: 0.0032 - precision: 0.9991 - accuracy: 0.0902 - val_loss: 0.0259 - val_precision: 0.9951 - val_accuracy: 0.0153\n",
      "Epoch 18/20\n",
      "1123/1123 [==============================] - 608s 542ms/step - loss: 0.0054 - precision: 0.9988 - accuracy: 0.1759 - val_loss: 0.0274 - val_precision: 0.9918 - val_accuracy: 0.0000e+00\n",
      "Epoch 19/20\n",
      "1123/1123 [==============================] - 625s 557ms/step - loss: 0.0038 - precision: 0.9990 - accuracy: 0.0563 - val_loss: 0.0270 - val_precision: 0.9928 - val_accuracy: 0.0165\n",
      "Epoch 20/20\n",
      "1123/1123 [==============================] - 684s 609ms/step - loss: 0.0022 - precision: 0.9994 - accuracy: 0.1030 - val_loss: 0.0318 - val_precision: 0.9941 - val_accuracy: 0.0194\n",
      "dict_keys(['loss', 'precision', 'accuracy', 'val_loss', 'val_precision', 'val_accuracy'])\n"
     ]
    }
   ],
   "source": [
    "\n",
    "history = model.fit(X_train, \n",
    "                    y_train, \n",
    "                    epochs=20,\n",
    "                    validation_data=(X_test, y_test), \n",
    "                    callbacks=callbacks)\n",
    "\n",
    "print(history.history.keys())"
   ]
  },
  {
   "cell_type": "code",
   "execution_count": 41,
   "id": "a146d1f7",
   "metadata": {},
   "outputs": [
    {
     "data": {
      "image/png": "[encoded data removed]",
      "text/plain": [
       "<Figure size 432x288 with 1 Axes>"
      ]
     },
     "metadata": {
      "needs_background": "light"
     },
     "output_type": "display_data"
    },
    {
     "ename": "KeyError",
     "evalue": "'precision'",
     "output_type": "error",
     "traceback": [
      "\u001b[1;31m---------------------------------------------------------------------------\u001b[0m",
      "\u001b[1;31mKeyError\u001b[0m                                  Traceback (most recent call last)",
      "\u001b[1;32m<ipython-input-41-001ecdc69a0a>\u001b[0m in \u001b[0;36m<module>\u001b[1;34m\u001b[0m\n\u001b[0;32m     13\u001b[0m \u001b[1;33m\u001b[0m\u001b[0m\n\u001b[0;32m     14\u001b[0m \u001b[0mmetric_to_plot\u001b[0m \u001b[1;33m=\u001b[0m \u001b[1;34m'precision'\u001b[0m\u001b[1;33m\u001b[0m\u001b[1;33m\u001b[0m\u001b[0m\n\u001b[1;32m---> 15\u001b[1;33m \u001b[0mplt\u001b[0m\u001b[1;33m.\u001b[0m\u001b[0mplot\u001b[0m\u001b[1;33m(\u001b[0m\u001b[0mrange\u001b[0m\u001b[1;33m(\u001b[0m\u001b[1;36m1\u001b[0m\u001b[1;33m,\u001b[0m \u001b[0mmax\u001b[0m\u001b[1;33m(\u001b[0m\u001b[0mhistory\u001b[0m\u001b[1;33m.\u001b[0m\u001b[0mepoch\u001b[0m\u001b[1;33m)\u001b[0m \u001b[1;33m+\u001b[0m \u001b[1;36m2\u001b[0m\u001b[1;33m)\u001b[0m\u001b[1;33m,\u001b[0m \u001b[0mhistory\u001b[0m\u001b[1;33m.\u001b[0m\u001b[0mhistory\u001b[0m\u001b[1;33m[\u001b[0m\u001b[0mmetric_to_plot\u001b[0m\u001b[1;33m]\u001b[0m\u001b[1;33m,\u001b[0m \u001b[1;34m\".:\"\u001b[0m\u001b[1;33m,\u001b[0m \u001b[0mlabel\u001b[0m\u001b[1;33m=\u001b[0m\u001b[1;34m\"Training loss\"\u001b[0m\u001b[1;33m)\u001b[0m\u001b[1;33m\u001b[0m\u001b[1;33m\u001b[0m\u001b[0m\n\u001b[0m\u001b[0;32m     16\u001b[0m \u001b[0mplt\u001b[0m\u001b[1;33m.\u001b[0m\u001b[0mplot\u001b[0m\u001b[1;33m(\u001b[0m\u001b[0mrange\u001b[0m\u001b[1;33m(\u001b[0m\u001b[1;36m1\u001b[0m\u001b[1;33m,\u001b[0m \u001b[0mmax\u001b[0m\u001b[1;33m(\u001b[0m\u001b[0mhistory\u001b[0m\u001b[1;33m.\u001b[0m\u001b[0mepoch\u001b[0m\u001b[1;33m)\u001b[0m \u001b[1;33m+\u001b[0m \u001b[1;36m2\u001b[0m\u001b[1;33m)\u001b[0m\u001b[1;33m,\u001b[0m \u001b[0mhistory\u001b[0m\u001b[1;33m.\u001b[0m\u001b[0mhistory\u001b[0m\u001b[1;33m[\u001b[0m\u001b[1;34m\"val_\"\u001b[0m \u001b[1;33m+\u001b[0m \u001b[0mmetric_to_plot\u001b[0m\u001b[1;33m]\u001b[0m\u001b[1;33m,\u001b[0m \u001b[1;34m\".:\"\u001b[0m\u001b[1;33m,\u001b[0m \u001b[0mlabel\u001b[0m\u001b[1;33m=\u001b[0m\u001b[1;34m\"Validation loss\"\u001b[0m\u001b[1;33m)\u001b[0m\u001b[1;33m\u001b[0m\u001b[1;33m\u001b[0m\u001b[0m\n\u001b[0;32m     17\u001b[0m \u001b[0mplt\u001b[0m\u001b[1;33m.\u001b[0m\u001b[0mtitle\u001b[0m\u001b[1;33m(\u001b[0m\u001b[1;34m'Training and Validation Precision'\u001b[0m\u001b[1;33m)\u001b[0m\u001b[1;33m\u001b[0m\u001b[1;33m\u001b[0m\u001b[0m\n",
      "\u001b[1;31mKeyError\u001b[0m: 'precision'"
     ]
    }
   ],
   "source": [
    "# plot training and validation loss\n",
    "\n",
    "metric_to_plot = \"loss\"\n",
    "plt.plot(range(1, max(history.epoch) + 2), history.history[metric_to_plot], \".:\", label=\"Training loss\")\n",
    "plt.plot(range(1, max(history.epoch) + 2), history.history[\"val_\" + metric_to_plot], \".:\", label=\"Validation loss\")\n",
    "plt.title('Training and Validation Loss')\n",
    "plt.xlim([1,max(history.epoch) + 2])\n",
    "plt.xticks(range(1, max(history.epoch) + 2))\n",
    "plt.legend()\n",
    "plt.show()\n",
    "\n",
    "# plot training and validation precision\n",
    "\n",
    "metric_to_plot = 'precision'\n",
    "plt.plot(range(1, max(history.epoch) + 2), history.history[metric_to_plot], \".:\", label=\"Training loss\")\n",
    "plt.plot(range(1, max(history.epoch) + 2), history.history[\"val_\" + metric_to_plot], \".:\", label=\"Validation loss\")\n",
    "plt.title('Training and Validation Precision')\n",
    "plt.xlim([1,max(history.epoch) + 2])\n",
    "plt.xticks(range(1, max(history.epoch) + 2))\n",
    "plt.legend()\n",
    "plt.show()\n",
    "\n",
    "# plot training and validation recall\n",
    "\n",
    "metric_to_plot = \"accuracy\"\n",
    "plt.plot(range(1, max(history.epoch) + 2), history.history[metric_to_plot], \".:\", label=\"Training loss\")\n",
    "plt.plot(range(1, max(history.epoch) + 2), history.history[\"val_\" + metric_to_plot], \".:\", label=\"Validation loss\")\n",
    "plt.title('Training and Validation Recall')\n",
    "plt.xlim([1,max(history.epoch) + 2])\n",
    "plt.xticks(range(1, max(history.epoch) + 2))\n",
    "plt.legend()\n",
    "plt.show()"
   ]
  },
  {
   "cell_type": "code",
   "execution_count": 19,
   "id": "dce3552f",
   "metadata": {},
   "outputs": [],
   "source": [
    "predict_x=model.predict(X_test) \n",
    "y_pred=np.argmax(predict_x,axis=1)"
   ]
  },
  {
   "cell_type": "code",
   "execution_count": 21,
   "id": "11d02a56",
   "metadata": {},
   "outputs": [
    {
     "name": "stdout",
     "output_type": "stream",
     "text": [
      "              precision    recall  f1-score   support\n",
      "\n",
      "           0       0.48      1.00      0.65      4283\n",
      "           1       0.00      0.00      0.00      4697\n",
      "\n",
      "    accuracy                           0.48      8980\n",
      "   macro avg       0.24      0.50      0.32      8980\n",
      "weighted avg       0.23      0.48      0.31      8980\n",
      "\n",
      "[[4283    0]\n",
      " [4697    0]]\n",
      "Accuracy :  47.69  %\n",
      "f1_score :  0.308\n"
     ]
    }
   ],
   "source": [
    "# Model evaluation\n",
    "from sklearn.metrics import confusion_matrix, classification_report, accuracy_score, f1_score\n",
    "print(classification_report(y_test,y_pred ))\n",
    "print(confusion_matrix(y_test, y_pred))\n",
    "\n",
    "rfc2_f1 = round(f1_score(y_test,y_pred , average='weighted'), 3)\n",
    "rfc2_accuracy = round((accuracy_score(y_test, y_pred )*100),2)\n",
    "\n",
    "print(\"Accuracy : \" , rfc2_accuracy , \" %\")\n",
    "print(\"f1_score : \" , rfc2_f1)"
   ]
  },
  {
   "cell_type": "markdown",
   "id": "61bced12",
   "metadata": {},
   "source": [
    "# Model2"
   ]
  },
  {
   "cell_type": "code",
   "execution_count": 53,
   "id": "02b24fef",
   "metadata": {},
   "outputs": [],
   "source": [
    "\n",
    "#Defining Neural Network\n",
    "model = Sequential()\n",
    "#Non-trainable embeddidng layer\n",
    "model.add(Embedding(vocab_size, 10, input_length=max_length))\n",
    "#LSTM \n",
    "model.add(LSTM(units=128))\n",
    "model.add(Dense(1, activation='sigmoid'))\n",
    "model.compile(optimizer='adam', loss='binary_crossentropy',metrics=[tf.keras.metrics.Precision(), tf.keras.metrics.Accuracy()])"
   ]
  },
  {
   "cell_type": "code",
   "execution_count": 54,
   "id": "8158b582",
   "metadata": {},
   "outputs": [
    {
     "name": "stdout",
     "output_type": "stream",
     "text": [
      "Epoch 1/20\n",
      "1123/1123 [==============================] - 886s 786ms/step - loss: 0.5806 - precision_1: 0.6382 - accuracy: 0.0000e+00 - val_loss: 0.6472 - val_precision_1: 0.9010 - val_accuracy: 0.0000e+00\n",
      "Epoch 2/20\n",
      "1123/1123 [==============================] - 827s 737ms/step - loss: 0.5134 - precision_1: 0.6726 - accuracy: 0.0000e+00 - val_loss: 0.6274 - val_precision_1: 0.5569 - val_accuracy: 0.0000e+00\n",
      "Epoch 3/20\n",
      "1123/1123 [==============================] - 833s 742ms/step - loss: 0.4690 - precision_1: 0.6853 - accuracy: 0.0000e+00 - val_loss: 0.2001 - val_precision_1: 0.9629 - val_accuracy: 0.0000e+00\n",
      "Epoch 4/20\n",
      "1123/1123 [==============================] - 854s 761ms/step - loss: 0.3174 - precision_1: 0.8303 - accuracy: 0.0000e+00 - val_loss: 0.2781 - val_precision_1: 0.9461 - val_accuracy: 0.0000e+00\n",
      "Epoch 5/20\n",
      "1123/1123 [==============================] - 793s 706ms/step - loss: 0.5666 - precision_1: 0.6180 - accuracy: 0.0000e+00 - val_loss: 0.4512 - val_precision_1: 0.8523 - val_accuracy: 0.0000e+00\n",
      "Epoch 6/20\n",
      "1123/1123 [==============================] - 794s 707ms/step - loss: 0.4086 - precision_1: 0.8192 - accuracy: 0.0000e+00 - val_loss: 0.2021 - val_precision_1: 0.9853 - val_accuracy: 0.0000e+00\n",
      "Epoch 7/20\n",
      "1123/1123 [==============================] - 11271s 10s/step - loss: 0.3739 - precision_1: 0.8816 - accuracy: 0.0000e+00 - val_loss: 0.2220 - val_precision_1: 0.9645 - val_accuracy: 0.0000e+00\n",
      "Epoch 8/20\n",
      "1123/1123 [==============================] - 915s 815ms/step - loss: 0.2771 - precision_1: 0.9522 - accuracy: 0.0000e+00 - val_loss: 0.2428 - val_precision_1: 0.9776 - val_accuracy: 0.0000e+00\n",
      "Epoch 9/20\n",
      "1123/1123 [==============================] - 912s 812ms/step - loss: 0.2392 - precision_1: 0.9388 - accuracy: 0.0000e+00 - val_loss: 0.2718 - val_precision_1: 0.9864 - val_accuracy: 0.0000e+00\n",
      "Epoch 10/20\n",
      "1123/1123 [==============================] - 920s 819ms/step - loss: 0.2293 - precision_1: 0.9040 - accuracy: 0.0000e+00 - val_loss: 0.1154 - val_precision_1: 0.9558 - val_accuracy: 0.0000e+00\n",
      "Epoch 11/20\n",
      "1123/1123 [==============================] - 919s 819ms/step - loss: 0.0774 - precision_1: 0.9786 - accuracy: 0.0000e+00 - val_loss: 0.0597 - val_precision_1: 0.9784 - val_accuracy: 0.0000e+00\n",
      "Epoch 12/20\n",
      "1123/1123 [==============================] - 920s 820ms/step - loss: 0.0624 - precision_1: 0.9828 - accuracy: 0.0000e+00 - val_loss: 0.0820 - val_precision_1: 0.9762 - val_accuracy: 0.0000e+00\n",
      "Epoch 13/20\n",
      "1123/1123 [==============================] - 929s 827ms/step - loss: 0.0407 - precision_1: 0.9895 - accuracy: 0.0000e+00 - val_loss: 0.0497 - val_precision_1: 0.9910 - val_accuracy: 0.0000e+00\n",
      "Epoch 14/20\n",
      "1123/1123 [==============================] - 901s 803ms/step - loss: 0.0322 - precision_1: 0.9921 - accuracy: 0.0000e+00 - val_loss: 0.0484 - val_precision_1: 0.9862 - val_accuracy: 0.0000e+00\n",
      "Epoch 15/20\n",
      "1123/1123 [==============================] - 822s 732ms/step - loss: 0.0663 - precision_1: 0.9688 - accuracy: 0.0000e+00 - val_loss: 0.0380 - val_precision_1: 0.9867 - val_accuracy: 0.0000e+00\n",
      "Epoch 16/20\n",
      "1123/1123 [==============================] - 849s 756ms/step - loss: 0.0258 - precision_1: 0.9944 - accuracy: 0.0000e+00 - val_loss: 0.0331 - val_precision_1: 0.9940 - val_accuracy: 0.0000e+00\n",
      "Epoch 17/20\n",
      "1123/1123 [==============================] - 834s 743ms/step - loss: 0.0169 - precision_1: 0.9955 - accuracy: 0.0000e+00 - val_loss: 0.0359 - val_precision_1: 0.9921 - val_accuracy: 0.0000e+00\n",
      "Epoch 18/20\n",
      "1123/1123 [==============================] - 903s 804ms/step - loss: 0.0184 - precision_1: 0.9962 - accuracy: 0.0000e+00 - val_loss: 0.0292 - val_precision_1: 0.9953 - val_accuracy: 0.0000e+00\n",
      "Epoch 19/20\n",
      "1123/1123 [==============================] - 923s 822ms/step - loss: 0.0102 - precision_1: 0.9977 - accuracy: 0.0000e+00 - val_loss: 0.0300 - val_precision_1: 0.9913 - val_accuracy: 0.0000e+00\n",
      "Epoch 20/20\n",
      "1123/1123 [==============================] - 922s 821ms/step - loss: 0.0106 - precision_1: 0.9974 - accuracy: 0.0000e+00 - val_loss: 0.0288 - val_precision_1: 0.9903 - val_accuracy: 0.0000e+00\n"
     ]
    }
   ],
   "source": [
    "history = model.fit(X_train, \n",
    "                    y_train, \n",
    "                    epochs=20,\n",
    "                    validation_data=(X_test, y_test), \n",
    "                    )"
   ]
  },
  {
   "cell_type": "code",
   "execution_count": 36,
   "id": "39c3b222",
   "metadata": {},
   "outputs": [],
   "source": [
    "predict_x=model.predict(X_test) \n",
    "y_pred=np.argmax(predict_x,axis=1)"
   ]
  },
  {
   "cell_type": "code",
   "execution_count": 56,
   "id": "ddb020c8",
   "metadata": {},
   "outputs": [
    {
     "name": "stdout",
     "output_type": "stream",
     "text": [
      "1123/1123 [==============================] - 272s 242ms/step - loss: 0.0061 - precision_1: 0.9986 - accuracy: 0.0000e+00\n"
     ]
    },
    {
     "data": {
      "text/plain": [
       "[0.006062592379748821, 0.9986156821250916, 0.0]"
      ]
     },
     "execution_count": 56,
     "metadata": {},
     "output_type": "execute_result"
    }
   ],
   "source": [
    "model.evaluate(X_train,y_train)"
   ]
  },
  {
   "cell_type": "code",
   "execution_count": 55,
   "id": "c9d15fa4",
   "metadata": {},
   "outputs": [
    {
     "name": "stdout",
     "output_type": "stream",
     "text": [
      "281/281 [==============================] - 68s 240ms/step - loss: 0.0288 - precision_1: 0.9903 - accuracy: 0.0000e+00\n"
     ]
    },
    {
     "data": {
      "text/plain": [
       "[0.028808820992708206, 0.9902521967887878, 0.0]"
      ]
     },
     "execution_count": 55,
     "metadata": {},
     "output_type": "execute_result"
    }
   ],
   "source": [
    "model.evaluate(X_test,y_test)"
   ]
  },
  {
   "cell_type": "code",
   "execution_count": 60,
   "id": "373ae7a9",
   "metadata": {
    "scrolled": false
   },
   "outputs": [
    {
     "data": {
      "image/png": "[encoded data removed]",
      "text/plain": [
       "<Figure size 432x288 with 1 Axes>"
      ]
     },
     "metadata": {
      "needs_background": "light"
     },
     "output_type": "display_data"
    },
    {
     "data": {
      "image/png": "[encoded data removed]",
      "text/plain": [
       "<Figure size 432x288 with 1 Axes>"
      ]
     },
     "metadata": {
      "needs_background": "light"
     },
     "output_type": "display_data"
    }
   ],
   "source": [
    "# plot training and validation loss\n",
    "\n",
    "metric_to_plot = \"loss\"\n",
    "plt.plot(range(1, max(history.epoch) + 2), history.history[metric_to_plot], \".:\", label=\"Training loss\")\n",
    "plt.plot(range(1, max(history.epoch) + 2), history.history[\"val_\" + metric_to_plot], \".:\", label=\"Validation loss\")\n",
    "plt.title('Training and Validation Loss')\n",
    "plt.xlim([1,max(history.epoch) + 2])\n",
    "plt.xticks(range(1, max(history.epoch) + 2))\n",
    "plt.legend()\n",
    "plt.show()\n",
    "\n",
    "\n",
    "\n",
    "\n",
    "# plot training and validation precision\n",
    "\n",
    "metric_to_plot = \"precision_1\"\n",
    "plt.plot(range(1, max(history.epoch) + 2), history.history[metric_to_plot], \".:\", label=\"Training loss\")\n",
    "plt.plot(range(1, max(history.epoch) + 2), history.history[\"val_\" + metric_to_plot], \".:\", label=\"Validation loss\")\n",
    "plt.title('Training and Validation precision')\n",
    "plt.xlim([1,max(history.epoch) + 2])\n",
    "plt.xticks(range(1, max(history.epoch) + 2))\n",
    "plt.legend()\n",
    "plt.show()"
   ]
  },
  {
   "cell_type": "code",
   "execution_count": null,
   "id": "f4cc9db2",
   "metadata": {},
   "outputs": [],
   "source": []
  }
 ],
 "metadata": {
  "kernelspec": {
   "display_name": "Python 3",
   "language": "python",
   "name": "python3"
  },
  "language_info": {
   "codemirror_mode": {
    "name": "ipython",
    "version": 3
   },
   "file_extension": ".py",
   "mimetype": "text/x-python",
   "name": "python",
   "nbconvert_exporter": "python",
   "pygments_lexer": "ipython3",
   "version": "3.8.8"
  }
 },
 "nbformat": 4,
 "nbformat_minor": 5
}
